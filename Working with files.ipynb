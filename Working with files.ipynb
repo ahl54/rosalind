{
 "cells": [
  {
   "cell_type": "code",
   "execution_count": 17,
   "metadata": {
    "collapsed": false,
    "scrolled": true
   },
   "outputs": [
    {
     "name": "stdout",
     "output_type": "stream",
     "text": [
      "`Twas brillig, and the slithy toves\n",
      "\n",
      "  Did gyre and gimble in the wabe:\n",
      "\n",
      "All mimsy were the borogoves,\n",
      "\n",
      "  And the mome raths outgrabe.\n",
      "\n",
      "\"Beware the Jabberwock, my son!\n",
      "\n",
      "  The jaws that bite, the claws that catch!\n",
      "\n",
      "Beware the Jubjub bird, and shun\n",
      "\n",
      "  The frumious Bandersnatch!\"\n",
      "\n",
      "He took his vorpal sword in hand:\n",
      "\n",
      "  Long time the manxome foe he sought --\n",
      "\n",
      "So rested he by the Tumtum tree,\n",
      "\n",
      "  And stood awhile in thought.\n",
      "\n",
      "And, as in uffish thought he stood,\n",
      "\n",
      "  The Jabberwock, with eyes of flame,\n",
      "\n",
      "Came whiffling through the tulgey wood,\n",
      "\n",
      "  And burbled as it came!\n",
      "\n",
      "One, two! One, two! And through and through\n",
      "\n",
      "  The vorpal blade went snicker-snack!\n",
      "\n",
      "He left it dead, and with its head\n",
      "\n",
      "  He went galumphing back.\n",
      "\n"
     ]
    }
   ],
   "source": [
    "f = open('rosalind_ini5.txt', 'r')\n",
    "ct = 0\n",
    "for line in f:\n",
    "    if (ct % 2 == 0):\n",
    "        print line\n",
    "    ct += 1"
   ]
  },
  {
   "cell_type": "code",
   "execution_count": null,
   "metadata": {
    "collapsed": true
   },
   "outputs": [],
   "source": []
  }
 ],
 "metadata": {
  "kernelspec": {
   "display_name": "Python 2",
   "language": "python",
   "name": "python2"
  },
  "language_info": {
   "codemirror_mode": {
    "name": "ipython",
    "version": 2
   },
   "file_extension": ".py",
   "mimetype": "text/x-python",
   "name": "python",
   "nbconvert_exporter": "python",
   "pygments_lexer": "ipython2",
   "version": "2.7.10"
  }
 },
 "nbformat": 4,
 "nbformat_minor": 0
}
